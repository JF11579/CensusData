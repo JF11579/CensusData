{
  "nbformat": 4,
  "nbformat_minor": 0,
  "metadata": {
    "colab": {
      "name": "Data AbstractionWordCount.ipynb",
      "provenance": [],
      "collapsed_sections": [],
      "authorship_tag": "ABX9TyNmYswh047mPoi7rTOi+hfA",
      "include_colab_link": true
    },
    "kernelspec": {
      "name": "python3",
      "display_name": "Python 3"
    },
    "language_info": {
      "name": "python"
    }
  },
  "cells": [
    {
      "cell_type": "markdown",
      "metadata": {
        "id": "view-in-github",
        "colab_type": "text"
      },
      "source": [
        "<a href=\"https://colab.research.google.com/github/JF11579/CensusData/blob/master/Data_AbstractionWordCount.ipynb\" target=\"_parent\"><img src=\"https://colab.research.google.com/assets/colab-badge.svg\" alt=\"Open In Colab\"/></a>"
      ]
    },
    {
      "cell_type": "code",
      "metadata": {
        "id": "WcqwqUSJX9h-"
      },
      "source": [
        ""
      ],
      "execution_count": null,
      "outputs": []
    },
    {
      "cell_type": "markdown",
      "metadata": {
        "id": "YHl6ASSyZUH2"
      },
      "source": [
        "https://medium.com/analytics-vidhya/natural-language-processing-with-python-cb3f83d5a393"
      ]
    },
    {
      "cell_type": "markdown",
      "metadata": {
        "id": "ylHzTLXbnnhX"
      },
      "source": [
        "https://medium.com/analytics-vidhya/natural-language-processing-with-python-cb3f83d5a393"
      ]
    },
    {
      "cell_type": "code",
      "metadata": {
        "id": "sNRp5Wt3oAkE"
      },
      "source": [
        ""
      ],
      "execution_count": null,
      "outputs": []
    },
    {
      "cell_type": "code",
      "metadata": {
        "id": "IwMPqU_9ZbRl"
      },
      "source": [
        "import re"
      ],
      "execution_count": 13,
      "outputs": []
    },
    {
      "cell_type": "code",
      "metadata": {
        "colab": {
          "base_uri": "https://localhost:8080/"
        },
        "id": "veRh2M6AoB2D",
        "outputId": "d1d25d92-c613-4570-9d12-906d882f8050"
      },
      "source": [
        "import nltk\n",
        "nltk.download('all')"
      ],
      "execution_count": 31,
      "outputs": [
        {
          "output_type": "stream",
          "text": [
            "[nltk_data] Downloading collection 'all'\n",
            "[nltk_data]    | \n",
            "[nltk_data]    | Downloading package abc to /root/nltk_data...\n",
            "[nltk_data]    |   Unzipping corpora/abc.zip.\n",
            "[nltk_data]    | Downloading package alpino to /root/nltk_data...\n",
            "[nltk_data]    |   Unzipping corpora/alpino.zip.\n",
            "[nltk_data]    | Downloading package biocreative_ppi to\n",
            "[nltk_data]    |     /root/nltk_data...\n",
            "[nltk_data]    |   Unzipping corpora/biocreative_ppi.zip.\n",
            "[nltk_data]    | Downloading package brown to /root/nltk_data...\n",
            "[nltk_data]    |   Unzipping corpora/brown.zip.\n",
            "[nltk_data]    | Downloading package brown_tei to /root/nltk_data...\n",
            "[nltk_data]    |   Unzipping corpora/brown_tei.zip.\n",
            "[nltk_data]    | Downloading package cess_cat to /root/nltk_data...\n",
            "[nltk_data]    |   Unzipping corpora/cess_cat.zip.\n",
            "[nltk_data]    | Downloading package cess_esp to /root/nltk_data...\n",
            "[nltk_data]    |   Unzipping corpora/cess_esp.zip.\n",
            "[nltk_data]    | Downloading package chat80 to /root/nltk_data...\n",
            "[nltk_data]    |   Unzipping corpora/chat80.zip.\n",
            "[nltk_data]    | Downloading package city_database to\n",
            "[nltk_data]    |     /root/nltk_data...\n",
            "[nltk_data]    |   Unzipping corpora/city_database.zip.\n",
            "[nltk_data]    | Downloading package cmudict to /root/nltk_data...\n",
            "[nltk_data]    |   Unzipping corpora/cmudict.zip.\n",
            "[nltk_data]    | Downloading package comparative_sentences to\n",
            "[nltk_data]    |     /root/nltk_data...\n",
            "[nltk_data]    |   Unzipping corpora/comparative_sentences.zip.\n",
            "[nltk_data]    | Downloading package comtrans to /root/nltk_data...\n",
            "[nltk_data]    | Downloading package conll2000 to /root/nltk_data...\n",
            "[nltk_data]    |   Unzipping corpora/conll2000.zip.\n",
            "[nltk_data]    | Downloading package conll2002 to /root/nltk_data...\n",
            "[nltk_data]    |   Unzipping corpora/conll2002.zip.\n",
            "[nltk_data]    | Downloading package conll2007 to /root/nltk_data...\n",
            "[nltk_data]    | Downloading package crubadan to /root/nltk_data...\n",
            "[nltk_data]    |   Unzipping corpora/crubadan.zip.\n",
            "[nltk_data]    | Downloading package dependency_treebank to\n",
            "[nltk_data]    |     /root/nltk_data...\n",
            "[nltk_data]    |   Unzipping corpora/dependency_treebank.zip.\n",
            "[nltk_data]    | Downloading package dolch to /root/nltk_data...\n",
            "[nltk_data]    |   Unzipping corpora/dolch.zip.\n",
            "[nltk_data]    | Downloading package europarl_raw to\n",
            "[nltk_data]    |     /root/nltk_data...\n",
            "[nltk_data]    |   Unzipping corpora/europarl_raw.zip.\n",
            "[nltk_data]    | Downloading package floresta to /root/nltk_data...\n",
            "[nltk_data]    |   Unzipping corpora/floresta.zip.\n",
            "[nltk_data]    | Downloading package framenet_v15 to\n",
            "[nltk_data]    |     /root/nltk_data...\n",
            "[nltk_data]    |   Unzipping corpora/framenet_v15.zip.\n",
            "[nltk_data]    | Downloading package framenet_v17 to\n",
            "[nltk_data]    |     /root/nltk_data...\n",
            "[nltk_data]    |   Unzipping corpora/framenet_v17.zip.\n",
            "[nltk_data]    | Downloading package gazetteers to /root/nltk_data...\n",
            "[nltk_data]    |   Unzipping corpora/gazetteers.zip.\n",
            "[nltk_data]    | Downloading package genesis to /root/nltk_data...\n",
            "[nltk_data]    |   Unzipping corpora/genesis.zip.\n",
            "[nltk_data]    | Downloading package gutenberg to /root/nltk_data...\n",
            "[nltk_data]    |   Unzipping corpora/gutenberg.zip.\n",
            "[nltk_data]    | Downloading package ieer to /root/nltk_data...\n",
            "[nltk_data]    |   Unzipping corpora/ieer.zip.\n",
            "[nltk_data]    | Downloading package inaugural to /root/nltk_data...\n",
            "[nltk_data]    |   Unzipping corpora/inaugural.zip.\n",
            "[nltk_data]    | Downloading package indian to /root/nltk_data...\n",
            "[nltk_data]    |   Unzipping corpora/indian.zip.\n",
            "[nltk_data]    | Downloading package jeita to /root/nltk_data...\n",
            "[nltk_data]    | Downloading package kimmo to /root/nltk_data...\n",
            "[nltk_data]    |   Unzipping corpora/kimmo.zip.\n",
            "[nltk_data]    | Downloading package knbc to /root/nltk_data...\n",
            "[nltk_data]    | Downloading package lin_thesaurus to\n",
            "[nltk_data]    |     /root/nltk_data...\n",
            "[nltk_data]    |   Unzipping corpora/lin_thesaurus.zip.\n",
            "[nltk_data]    | Downloading package mac_morpho to /root/nltk_data...\n",
            "[nltk_data]    |   Unzipping corpora/mac_morpho.zip.\n",
            "[nltk_data]    | Downloading package machado to /root/nltk_data...\n",
            "[nltk_data]    | Downloading package masc_tagged to /root/nltk_data...\n",
            "[nltk_data]    | Downloading package moses_sample to\n",
            "[nltk_data]    |     /root/nltk_data...\n",
            "[nltk_data]    |   Unzipping models/moses_sample.zip.\n",
            "[nltk_data]    | Downloading package movie_reviews to\n",
            "[nltk_data]    |     /root/nltk_data...\n",
            "[nltk_data]    |   Unzipping corpora/movie_reviews.zip.\n",
            "[nltk_data]    | Downloading package names to /root/nltk_data...\n",
            "[nltk_data]    |   Unzipping corpora/names.zip.\n",
            "[nltk_data]    | Downloading package nombank.1.0 to /root/nltk_data...\n",
            "[nltk_data]    | Downloading package nps_chat to /root/nltk_data...\n",
            "[nltk_data]    |   Unzipping corpora/nps_chat.zip.\n",
            "[nltk_data]    | Downloading package omw to /root/nltk_data...\n",
            "[nltk_data]    |   Unzipping corpora/omw.zip.\n",
            "[nltk_data]    | Downloading package opinion_lexicon to\n",
            "[nltk_data]    |     /root/nltk_data...\n",
            "[nltk_data]    |   Unzipping corpora/opinion_lexicon.zip.\n",
            "[nltk_data]    | Downloading package paradigms to /root/nltk_data...\n",
            "[nltk_data]    |   Unzipping corpora/paradigms.zip.\n",
            "[nltk_data]    | Downloading package pil to /root/nltk_data...\n",
            "[nltk_data]    |   Unzipping corpora/pil.zip.\n",
            "[nltk_data]    | Downloading package pl196x to /root/nltk_data...\n",
            "[nltk_data]    |   Unzipping corpora/pl196x.zip.\n",
            "[nltk_data]    | Downloading package ppattach to /root/nltk_data...\n",
            "[nltk_data]    |   Unzipping corpora/ppattach.zip.\n",
            "[nltk_data]    | Downloading package problem_reports to\n",
            "[nltk_data]    |     /root/nltk_data...\n",
            "[nltk_data]    |   Unzipping corpora/problem_reports.zip.\n",
            "[nltk_data]    | Downloading package propbank to /root/nltk_data...\n",
            "[nltk_data]    | Downloading package ptb to /root/nltk_data...\n",
            "[nltk_data]    |   Unzipping corpora/ptb.zip.\n",
            "[nltk_data]    | Downloading package product_reviews_1 to\n",
            "[nltk_data]    |     /root/nltk_data...\n",
            "[nltk_data]    |   Unzipping corpora/product_reviews_1.zip.\n",
            "[nltk_data]    | Downloading package product_reviews_2 to\n",
            "[nltk_data]    |     /root/nltk_data...\n",
            "[nltk_data]    |   Unzipping corpora/product_reviews_2.zip.\n",
            "[nltk_data]    | Downloading package pros_cons to /root/nltk_data...\n",
            "[nltk_data]    |   Unzipping corpora/pros_cons.zip.\n",
            "[nltk_data]    | Downloading package qc to /root/nltk_data...\n",
            "[nltk_data]    |   Unzipping corpora/qc.zip.\n",
            "[nltk_data]    | Downloading package reuters to /root/nltk_data...\n",
            "[nltk_data]    | Downloading package rte to /root/nltk_data...\n",
            "[nltk_data]    |   Unzipping corpora/rte.zip.\n",
            "[nltk_data]    | Downloading package semcor to /root/nltk_data...\n",
            "[nltk_data]    | Downloading package senseval to /root/nltk_data...\n",
            "[nltk_data]    |   Unzipping corpora/senseval.zip.\n",
            "[nltk_data]    | Downloading package sentiwordnet to\n",
            "[nltk_data]    |     /root/nltk_data...\n",
            "[nltk_data]    |   Unzipping corpora/sentiwordnet.zip.\n",
            "[nltk_data]    | Downloading package sentence_polarity to\n",
            "[nltk_data]    |     /root/nltk_data...\n",
            "[nltk_data]    |   Unzipping corpora/sentence_polarity.zip.\n",
            "[nltk_data]    | Downloading package shakespeare to /root/nltk_data...\n",
            "[nltk_data]    |   Unzipping corpora/shakespeare.zip.\n",
            "[nltk_data]    | Downloading package sinica_treebank to\n",
            "[nltk_data]    |     /root/nltk_data...\n",
            "[nltk_data]    |   Unzipping corpora/sinica_treebank.zip.\n",
            "[nltk_data]    | Downloading package smultron to /root/nltk_data...\n",
            "[nltk_data]    |   Unzipping corpora/smultron.zip.\n",
            "[nltk_data]    | Downloading package state_union to /root/nltk_data...\n",
            "[nltk_data]    |   Unzipping corpora/state_union.zip.\n",
            "[nltk_data]    | Downloading package stopwords to /root/nltk_data...\n",
            "[nltk_data]    |   Unzipping corpora/stopwords.zip.\n",
            "[nltk_data]    | Downloading package subjectivity to\n",
            "[nltk_data]    |     /root/nltk_data...\n",
            "[nltk_data]    |   Unzipping corpora/subjectivity.zip.\n",
            "[nltk_data]    | Downloading package swadesh to /root/nltk_data...\n",
            "[nltk_data]    |   Unzipping corpora/swadesh.zip.\n",
            "[nltk_data]    | Downloading package switchboard to /root/nltk_data...\n",
            "[nltk_data]    |   Unzipping corpora/switchboard.zip.\n",
            "[nltk_data]    | Downloading package timit to /root/nltk_data...\n",
            "[nltk_data]    |   Unzipping corpora/timit.zip.\n",
            "[nltk_data]    | Downloading package toolbox to /root/nltk_data...\n",
            "[nltk_data]    |   Unzipping corpora/toolbox.zip.\n",
            "[nltk_data]    | Downloading package treebank to /root/nltk_data...\n",
            "[nltk_data]    |   Unzipping corpora/treebank.zip.\n",
            "[nltk_data]    | Downloading package twitter_samples to\n",
            "[nltk_data]    |     /root/nltk_data...\n",
            "[nltk_data]    |   Unzipping corpora/twitter_samples.zip.\n",
            "[nltk_data]    | Downloading package udhr to /root/nltk_data...\n",
            "[nltk_data]    |   Unzipping corpora/udhr.zip.\n",
            "[nltk_data]    | Downloading package udhr2 to /root/nltk_data...\n",
            "[nltk_data]    |   Unzipping corpora/udhr2.zip.\n",
            "[nltk_data]    | Downloading package unicode_samples to\n",
            "[nltk_data]    |     /root/nltk_data...\n",
            "[nltk_data]    |   Unzipping corpora/unicode_samples.zip.\n",
            "[nltk_data]    | Downloading package universal_treebanks_v20 to\n",
            "[nltk_data]    |     /root/nltk_data...\n",
            "[nltk_data]    | Downloading package verbnet to /root/nltk_data...\n",
            "[nltk_data]    |   Unzipping corpora/verbnet.zip.\n",
            "[nltk_data]    | Downloading package verbnet3 to /root/nltk_data...\n",
            "[nltk_data]    |   Unzipping corpora/verbnet3.zip.\n",
            "[nltk_data]    | Downloading package webtext to /root/nltk_data...\n",
            "[nltk_data]    |   Unzipping corpora/webtext.zip.\n",
            "[nltk_data]    | Downloading package wordnet to /root/nltk_data...\n",
            "[nltk_data]    |   Unzipping corpora/wordnet.zip.\n",
            "[nltk_data]    | Downloading package wordnet_ic to /root/nltk_data...\n",
            "[nltk_data]    |   Unzipping corpora/wordnet_ic.zip.\n",
            "[nltk_data]    | Downloading package words to /root/nltk_data...\n",
            "[nltk_data]    |   Unzipping corpora/words.zip.\n",
            "[nltk_data]    | Downloading package ycoe to /root/nltk_data...\n",
            "[nltk_data]    |   Unzipping corpora/ycoe.zip.\n",
            "[nltk_data]    | Downloading package rslp to /root/nltk_data...\n",
            "[nltk_data]    |   Unzipping stemmers/rslp.zip.\n",
            "[nltk_data]    | Downloading package maxent_treebank_pos_tagger to\n",
            "[nltk_data]    |     /root/nltk_data...\n",
            "[nltk_data]    |   Unzipping taggers/maxent_treebank_pos_tagger.zip.\n",
            "[nltk_data]    | Downloading package universal_tagset to\n",
            "[nltk_data]    |     /root/nltk_data...\n",
            "[nltk_data]    |   Unzipping taggers/universal_tagset.zip.\n",
            "[nltk_data]    | Downloading package maxent_ne_chunker to\n",
            "[nltk_data]    |     /root/nltk_data...\n",
            "[nltk_data]    |   Unzipping chunkers/maxent_ne_chunker.zip.\n",
            "[nltk_data]    | Downloading package punkt to /root/nltk_data...\n",
            "[nltk_data]    |   Unzipping tokenizers/punkt.zip.\n",
            "[nltk_data]    | Downloading package book_grammars to\n",
            "[nltk_data]    |     /root/nltk_data...\n",
            "[nltk_data]    |   Unzipping grammars/book_grammars.zip.\n",
            "[nltk_data]    | Downloading package sample_grammars to\n",
            "[nltk_data]    |     /root/nltk_data...\n",
            "[nltk_data]    |   Unzipping grammars/sample_grammars.zip.\n",
            "[nltk_data]    | Downloading package spanish_grammars to\n",
            "[nltk_data]    |     /root/nltk_data...\n",
            "[nltk_data]    |   Unzipping grammars/spanish_grammars.zip.\n",
            "[nltk_data]    | Downloading package basque_grammars to\n",
            "[nltk_data]    |     /root/nltk_data...\n",
            "[nltk_data]    |   Unzipping grammars/basque_grammars.zip.\n",
            "[nltk_data]    | Downloading package large_grammars to\n",
            "[nltk_data]    |     /root/nltk_data...\n",
            "[nltk_data]    |   Unzipping grammars/large_grammars.zip.\n",
            "[nltk_data]    | Downloading package tagsets to /root/nltk_data...\n",
            "[nltk_data]    |   Unzipping help/tagsets.zip.\n",
            "[nltk_data]    | Downloading package snowball_data to\n",
            "[nltk_data]    |     /root/nltk_data...\n",
            "[nltk_data]    | Downloading package bllip_wsj_no_aux to\n",
            "[nltk_data]    |     /root/nltk_data...\n",
            "[nltk_data]    |   Unzipping models/bllip_wsj_no_aux.zip.\n",
            "[nltk_data]    | Downloading package word2vec_sample to\n",
            "[nltk_data]    |     /root/nltk_data...\n",
            "[nltk_data]    |   Unzipping models/word2vec_sample.zip.\n",
            "[nltk_data]    | Downloading package panlex_swadesh to\n",
            "[nltk_data]    |     /root/nltk_data...\n",
            "[nltk_data]    | Downloading package mte_teip5 to /root/nltk_data...\n",
            "[nltk_data]    |   Unzipping corpora/mte_teip5.zip.\n",
            "[nltk_data]    | Downloading package averaged_perceptron_tagger to\n",
            "[nltk_data]    |     /root/nltk_data...\n",
            "[nltk_data]    |   Unzipping taggers/averaged_perceptron_tagger.zip.\n",
            "[nltk_data]    | Downloading package averaged_perceptron_tagger_ru to\n",
            "[nltk_data]    |     /root/nltk_data...\n",
            "[nltk_data]    |   Unzipping\n",
            "[nltk_data]    |       taggers/averaged_perceptron_tagger_ru.zip.\n",
            "[nltk_data]    | Downloading package perluniprops to\n",
            "[nltk_data]    |     /root/nltk_data...\n",
            "[nltk_data]    |   Unzipping misc/perluniprops.zip.\n",
            "[nltk_data]    | Downloading package nonbreaking_prefixes to\n",
            "[nltk_data]    |     /root/nltk_data...\n",
            "[nltk_data]    |   Unzipping corpora/nonbreaking_prefixes.zip.\n",
            "[nltk_data]    | Downloading package vader_lexicon to\n",
            "[nltk_data]    |     /root/nltk_data...\n",
            "[nltk_data]    | Downloading package porter_test to /root/nltk_data...\n",
            "[nltk_data]    |   Unzipping stemmers/porter_test.zip.\n",
            "[nltk_data]    | Downloading package wmt15_eval to /root/nltk_data...\n",
            "[nltk_data]    |   Unzipping models/wmt15_eval.zip.\n",
            "[nltk_data]    | Downloading package mwa_ppdb to /root/nltk_data...\n",
            "[nltk_data]    |   Unzipping misc/mwa_ppdb.zip.\n",
            "[nltk_data]    | \n",
            "[nltk_data]  Done downloading collection all\n"
          ],
          "name": "stdout"
        },
        {
          "output_type": "execute_result",
          "data": {
            "text/plain": [
              "True"
            ]
          },
          "metadata": {
            "tags": []
          },
          "execution_count": 31
        }
      ]
    },
    {
      "cell_type": "code",
      "metadata": {
        "colab": {
          "base_uri": "https://localhost:8080/"
        },
        "id": "Pm37zpgpkaW1",
        "outputId": "6f3119f1-29c3-4be6-dcc0-c0311f963b4d"
      },
      "source": [
        "#read in txt file\n",
        "with open(\"/content/Autopsy_report.txt\", \"r\") as f:\n",
        "  text = f.read()\n",
        "  print(text)"
      ],
      "execution_count": 32,
      "outputs": [
        {
          "output_type": "stream",
          "text": [
            "﻿AUTOPSY REPORT\n",
            "Autopsy: BPD110094-67F DECEDENT: John Anderson\n",
            "Autopsy Authorized by: Dr. Smith for City of Indianapolis. Identified by: fingerprints and dental comparison.\n",
            "Rigor: absent\n",
            "Livor: purple Distribution: posterior Age: 34\n",
            "Race: White\n",
            "Sex: Male\n",
            "Length: 72 inches Weight: 185 pounds Eyes: Hazel\n",
            "Hair: Brown Circumcised: Yes\n",
            "Body Heat: Refrigerated\n",
            "CLOTHING:\n",
            "1. Blue dress shirt, blood-stained and scorched. Multiple tears of different sizes on the front. Both lower arms are shredded.\n",
            "2. White T-shirt, blood-stained and scorched with multiple tears of different sizes on the front matching the tears on the blue dress shirt.\n",
            "3. Red tie shredded, scorched and blood-stained.\n",
            "4. Brown pants, blood-stained with irregular tears, scorching, and soot\n",
            "deposition, primarily on the left upper leg and crotch.\n",
            "5. Brown belt.\n",
            "6. White underwear briefs, torn on left side with searing, soot deposition and blood stains.\n",
            "7. Brown socks.\n",
            "8. Black shoes.\n",
            "EXTERNAL EXAMINATION:\n",
            "Well developed, well nourished, white male with multiple blast and fragment injuries including amputations of both upper extremities at mid-forearm with partial fragmentation of the detached portions of the extremities. There are lacerations of face and scalp with fractures of the calvarium, skull base and facial bones. The cranial vault is empty with fragments of brain recovered separately.\n",
            "\n",
            "\n",
            "   There are multiple penetrating fragment injuries of the anterior thorax and left thigh. There are gaping lacerations of the left lower abdomen and thigh with partial evisceration of sigmoid colon and small intestine. The penis and left testicle are absent. There are flash burns of the anterior thorax, face and left thigh.\n",
            "X-RAYS:\n",
            "Total body x-rays demonstrate comminuted fractures of the face and skull, multiple anterior rib fractures, comminuted fractures of pelvis and proximal left femur, amputations of distal upper extremities, and multiple metallic fragments in the head, thorax, and thighs.\n",
            "HISTORY:\n",
            "Injured by exploding package.\n",
            "PATHOLOGICAL DIAGNOSES:\n",
            "1. Blast and fragment injuries to head\n",
            "a. Comminuted fractures of calvarium, skull base and facial bones\n",
            "b. Avulsion and fragmentation of brain\n",
            "c. Avulsion and fragmentation of eyes\n",
            "d. Penetrating fragment injuries to lower face\n",
            "e. Flash burns to lower face\n",
            "2. Blast and fragment injuries to trunk\n",
            "a. Multiple perforation injuries with multiple lacerations of lungs, heart,\n",
            "liver, spleen, and intestines\n",
            "b. Multiple fractures and perforations of anterior ribs and sternum\n",
            "c. Laceration of left lower abdominal wall with partial evisceration of\n",
            "small intestine, mesentery, and colon\n",
            "d. Flash burns to anterior thorax\n",
            "e. Comminuted fractures of left ilium, ischium and pubic ramus with\n",
            "separations of the sacro-iliac joints and pubic symphysis.\n",
            "f. Multiple metal fragments recovered from thorax, abdomen and\n",
            "pelvis.\n",
            "3. Blast and fragment injuries to extremities\n",
            "a. Amputation of right hand and forearm with avulsion and searing of muscle and connective tissue\n",
            "b. Amputation and fragmentation of left hand and forearm with avulsion and searing of muscle and connective tissue\n",
            "c. Multiple penetrating fragment injuries to anterior surface of right arm\n",
            "\n",
            "\n",
            "   d. Comminution of left proximal femur with partial avulsion and searing of muscle and soft tissue.\n",
            "e. Multiple metal fragments recovered from soft tissues of left thigh\n",
            "4. Toxicology\n",
            "a. Blood carboxyhemoglobin less than 5% saturation\n",
            "b. Blood and vitreous fluid negative for alcohols\n",
            "c. Blood negative for acidic, basic and neutral drugs\n",
            "CAUSE OF DEATH\n",
            "Blast and penetrating fragment injuries due to explosion.\n",
            "GROSS DESCRIPTION\n",
            "SKIN:\n",
            "Multiple lacerations and perforations with irregular edges, searing and soot deposition\n",
            "PLEURA: 200 mL blood right, 300 mL blood left, 2 deformed nails recovered from right pleural cavity, 5 x 2 inch threaded metal fragment recovered from left pleural cavity. Multiple smaller metal fragments recovered from both pleural cavities.\n",
            "PERITONEUM: 100 mL blood, multiple metal fragments recovered PERICARDIUM: Multiple lacerations.\n",
            "HEART: 380 grams. Normal size and shape, coronary arteries within normal limits. Multiple lacerations of right and left ventricles. Laceration of aortic root.\n",
            "AORTA: Laceration of aortic root. Multiple lacerations of lower abdominal aorta. Left iliac and femoral vessels fragmented.\n",
            "NECK ORGANS: There are superficial penetrating fragment injuries on the anterior aspects of the neck with hemorrhage in the soft tissues adjacent to the wounds. Laryngeal cartilages, hyoid bone and cervical spine intact. Thyroid within normal limits. Airway free of blood and foreign material.\n",
            "LUNGS: 930 grams combined. Multiple lacerations of upper lobes and right middle lobe. Parenchyma aerated with a few apical bullae.\n",
            "LYMPH NODES: Within normal limits.\n",
            "\n",
            "\n",
            "\n",
            "\n",
            "   LIVER: 1650 grams. Multiple lacerations with partial pulpifaction of parenchyma.\n",
            "GALLBLADDER: Contains bile. No stones.\n",
            "SPLEEN: 130 grams. Multiple lacerations and partial pulpifaction.\n",
            "PANCREAS: Usual external configuration and pale tan on cut section with the usual lobular architecture.\n",
            "ADRENAL GLANDS: Within normal limits.\n",
            "GI TRACT: There are fractures of the maxilla and mandible. The tongue is without injury. The pharynx and esophagus are unremarkable. The stomach is empty and there are multiple lacerations of the gastric wall. There are multiple lacerations and perforations of the mesentery, small intestine, and colon. The appendix is present.\n",
            "KIDNEYS: 320 grams combined. There is hemorrhage in the perirenal soft tissues. The capsules strip with ease. The cortical surface is smooth. On cross section the cortices are of normal thickness and the pyramids and collecting systems are unremarkable. There are no stones or focal lesions. The ureters are intact.\n",
            "BLADDER: Multiple lacerations of the wall.\n",
            "GENITALIA: Lacerations of left scrotum with avulsion of left testicle and penis. Prostate unremarkable.\n",
            "BRAIN & MENINGES: Brain absent. 950 grams of brain fragments submitted separately.\n",
            "SKULL: Comminuted fractures of calvarium, skull base, and facial bones including mandible and maxilla.\n",
            "PELVIS: Comminuted fractures of left ileum, left ischium, left pubic ramus. Separations of pubic symphysis and sacro-iliac joints.\n",
            "RIBS: Perforations and fractures of anterior ribs and sternum. VERTEBRAE: Within normal limits\n",
            "EXTREMITIES: Amputations of right and left hands and forearms, Comminuted fractures of left proximal femur.\n",
            "MICROSCOPIC SECTIONS: Heart, lung, liver\n",
            "\n",
            "\n",
            "   OTHER LAB PROCEDURES: Toxicology, Photography, X-ray, Microscopic Examination.\n",
            "DISPOSITION OF EVIDENCE:\n",
            "TOXICOLOGY: blood, vitreous, liver, bile, urine. INVESTIGATOR: Clothing, recovered fragments.\n",
            "MICROSCOPIC DESCRIPTION\n",
            "HEART:\n",
            "LUNGS: areas.\n",
            "LIVER:\n",
            "SUMMARY:\n",
            "This 34 year old white man died instantly from multiple blast and fragment injuries when a package exploded in his home.\n",
            "CAUSE OF DEATH:\n",
            "Blast and fragment injuries.\n",
            "MANNER OF DEATH:\n",
            "Homicide\n",
            "Fragmentation and parenchymal hemorrhage\n",
            "Lacerations and parenchymal hemorrhage. Focal emphysematous\n",
            "Fragmentation and parenchymal hemorrhage.\n"
          ],
          "name": "stdout"
        }
      ]
    },
    {
      "cell_type": "code",
      "metadata": {
        "id": "p_czWY4jkgk_"
      },
      "source": [
        ""
      ],
      "execution_count": null,
      "outputs": []
    },
    {
      "cell_type": "code",
      "metadata": {
        "id": "yjUvxqD0kgb3"
      },
      "source": [
        ""
      ],
      "execution_count": null,
      "outputs": []
    },
    {
      "cell_type": "code",
      "metadata": {
        "id": "Da56O4f0kgQL"
      },
      "source": [
        ""
      ],
      "execution_count": null,
      "outputs": []
    },
    {
      "cell_type": "code",
      "metadata": {
        "id": "-e3TLN7-biT2"
      },
      "source": [
        "def tokenize(text):\n",
        "    text = text.lower()\n",
        "    text = re.sub(r'[^a-zA-Z ^0-9]', '', str(text))\n",
        "    return text.split()"
      ],
      "execution_count": 33,
      "outputs": []
    },
    {
      "cell_type": "code",
      "metadata": {
        "colab": {
          "base_uri": "https://localhost:8080/",
          "height": 222
        },
        "id": "4X3fDJqekHo4",
        "outputId": "8d9914cd-78f5-4310-fece-d15cdbed9dda"
      },
      "source": [
        "text"
      ],
      "execution_count": 34,
      "outputs": [
        {
          "output_type": "execute_result",
          "data": {
            "application/vnd.google.colaboratory.intrinsic+json": {
              "type": "string"
            },
            "text/plain": [
              "'\\ufeffAUTOPSY REPORT\\nAutopsy: BPD110094-67F DECEDENT: John Anderson\\nAutopsy Authorized by: Dr. Smith for City of Indianapolis. Identified by: fingerprints and dental comparison.\\nRigor: absent\\nLivor: purple Distribution: posterior Age: 34\\nRace: White\\nSex: Male\\nLength: 72 inches Weight: 185 pounds Eyes: Hazel\\nHair: Brown Circumcised: Yes\\nBody Heat: Refrigerated\\nCLOTHING:\\n1. Blue dress shirt, blood-stained and scorched. Multiple tears of different sizes on the front. Both lower arms are shredded.\\n2. White T-shirt, blood-stained and scorched with multiple tears of different sizes on the front matching the tears on the blue dress shirt.\\n3. Red tie shredded, scorched and blood-stained.\\n4. Brown pants, blood-stained with irregular tears, scorching, and soot\\ndeposition, primarily on the left upper leg and crotch.\\n5. Brown belt.\\n6. White underwear briefs, torn on left side with searing, soot deposition and blood stains.\\n7. Brown socks.\\n8. Black shoes.\\nEXTERNAL EXAMINATION:\\nWell developed, well nourished, white male with multiple blast and fragment injuries including amputations of both upper extremities at mid-forearm with partial fragmentation of the detached portions of the extremities. There are lacerations of face and scalp with fractures of the calvarium, skull base and facial bones. The cranial vault is empty with fragments of brain recovered separately.\\n\\n\\n   There are multiple penetrating fragment injuries of the anterior thorax and left thigh. There are gaping lacerations of the left lower abdomen and thigh with partial evisceration of sigmoid colon and small intestine. The penis and left testicle are absent. There are flash burns of the anterior thorax, face and left thigh.\\nX-RAYS:\\nTotal body x-rays demonstrate comminuted fractures of the face and skull, multiple anterior rib fractures, comminuted fractures of pelvis and proximal left femur, amputations of distal upper extremities, and multiple metallic fragments in the head, thorax, and thighs.\\nHISTORY:\\nInjured by exploding package.\\nPATHOLOGICAL DIAGNOSES:\\n1. Blast and fragment injuries to head\\na. Comminuted fractures of calvarium, skull base and facial bones\\nb. Avulsion and fragmentation of brain\\nc. Avulsion and fragmentation of eyes\\nd. Penetrating fragment injuries to lower face\\ne. Flash burns to lower face\\n2. Blast and fragment injuries to trunk\\na. Multiple perforation injuries with multiple lacerations of lungs, heart,\\nliver, spleen, and intestines\\nb. Multiple fractures and perforations of anterior ribs and sternum\\nc. Laceration of left lower abdominal wall with partial evisceration of\\nsmall intestine, mesentery, and colon\\nd. Flash burns to anterior thorax\\ne. Comminuted fractures of left ilium, ischium and pubic ramus with\\nseparations of the sacro-iliac joints and pubic symphysis.\\nf. Multiple metal fragments recovered from thorax, abdomen and\\npelvis.\\n3. Blast and fragment injuries to extremities\\na. Amputation of right hand and forearm with avulsion and searing of muscle and connective tissue\\nb. Amputation and fragmentation of left hand and forearm with avulsion and searing of muscle and connective tissue\\nc. Multiple penetrating fragment injuries to anterior surface of right arm\\n\\n\\n   d. Comminution of left proximal femur with partial avulsion and searing of muscle and soft tissue.\\ne. Multiple metal fragments recovered from soft tissues of left thigh\\n4. Toxicology\\na. Blood carboxyhemoglobin less than 5% saturation\\nb. Blood and vitreous fluid negative for alcohols\\nc. Blood negative for acidic, basic and neutral drugs\\nCAUSE OF DEATH\\nBlast and penetrating fragment injuries due to explosion.\\nGROSS DESCRIPTION\\nSKIN:\\nMultiple lacerations and perforations with irregular edges, searing and soot deposition\\nPLEURA: 200 mL blood right, 300 mL blood left, 2 deformed nails recovered from right pleural cavity, 5 x 2 inch threaded metal fragment recovered from left pleural cavity. Multiple smaller metal fragments recovered from both pleural cavities.\\nPERITONEUM: 100 mL blood, multiple metal fragments recovered PERICARDIUM: Multiple lacerations.\\nHEART: 380 grams. Normal size and shape, coronary arteries within normal limits. Multiple lacerations of right and left ventricles. Laceration of aortic root.\\nAORTA: Laceration of aortic root. Multiple lacerations of lower abdominal aorta. Left iliac and femoral vessels fragmented.\\nNECK ORGANS: There are superficial penetrating fragment injuries on the anterior aspects of the neck with hemorrhage in the soft tissues adjacent to the wounds. Laryngeal cartilages, hyoid bone and cervical spine intact. Thyroid within normal limits. Airway free of blood and foreign material.\\nLUNGS: 930 grams combined. Multiple lacerations of upper lobes and right middle lobe. Parenchyma aerated with a few apical bullae.\\nLYMPH NODES: Within normal limits.\\n\\n\\n\\n\\n   LIVER: 1650 grams. Multiple lacerations with partial pulpifaction of parenchyma.\\nGALLBLADDER: Contains bile. No stones.\\nSPLEEN: 130 grams. Multiple lacerations and partial pulpifaction.\\nPANCREAS: Usual external configuration and pale tan on cut section with the usual lobular architecture.\\nADRENAL GLANDS: Within normal limits.\\nGI TRACT: There are fractures of the maxilla and mandible. The tongue is without injury. The pharynx and esophagus are unremarkable. The stomach is empty and there are multiple lacerations of the gastric wall. There are multiple lacerations and perforations of the mesentery, small intestine, and colon. The appendix is present.\\nKIDNEYS: 320 grams combined. There is hemorrhage in the perirenal soft tissues. The capsules strip with ease. The cortical surface is smooth. On cross section the cortices are of normal thickness and the pyramids and collecting systems are unremarkable. There are no stones or focal lesions. The ureters are intact.\\nBLADDER: Multiple lacerations of the wall.\\nGENITALIA: Lacerations of left scrotum with avulsion of left testicle and penis. Prostate unremarkable.\\nBRAIN & MENINGES: Brain absent. 950 grams of brain fragments submitted separately.\\nSKULL: Comminuted fractures of calvarium, skull base, and facial bones including mandible and maxilla.\\nPELVIS: Comminuted fractures of left ileum, left ischium, left pubic ramus. Separations of pubic symphysis and sacro-iliac joints.\\nRIBS: Perforations and fractures of anterior ribs and sternum. VERTEBRAE: Within normal limits\\nEXTREMITIES: Amputations of right and left hands and forearms, Comminuted fractures of left proximal femur.\\nMICROSCOPIC SECTIONS: Heart, lung, liver\\n\\n\\n   OTHER LAB PROCEDURES: Toxicology, Photography, X-ray, Microscopic Examination.\\nDISPOSITION OF EVIDENCE:\\nTOXICOLOGY: blood, vitreous, liver, bile, urine. INVESTIGATOR: Clothing, recovered fragments.\\nMICROSCOPIC DESCRIPTION\\nHEART:\\nLUNGS: areas.\\nLIVER:\\nSUMMARY:\\nThis 34 year old white man died instantly from multiple blast and fragment injuries when a package exploded in his home.\\nCAUSE OF DEATH:\\nBlast and fragment injuries.\\nMANNER OF DEATH:\\nHomicide\\nFragmentation and parenchymal hemorrhage\\nLacerations and parenchymal hemorrhage. Focal emphysematous\\nFragmentation and parenchymal hemorrhage.'"
            ]
          },
          "metadata": {
            "tags": []
          },
          "execution_count": 34
        }
      ]
    },
    {
      "cell_type": "markdown",
      "metadata": {
        "id": "nyUCE0Jgk0_k"
      },
      "source": [
        "Word Count"
      ]
    },
    {
      "cell_type": "code",
      "metadata": {
        "colab": {
          "base_uri": "https://localhost:8080/"
        },
        "id": "uCdammUvlH4_",
        "outputId": "39ca9748-e8fc-4ac7-d7a2-e162e0b8288a"
      },
      "source": [
        "tokens = tokenize(text)\n",
        "tokens[:10]"
      ],
      "execution_count": 22,
      "outputs": [
        {
          "output_type": "execute_result",
          "data": {
            "text/plain": [
              "['autopsy',\n",
              " 'reportautopsy',\n",
              " 'bpd11009467f',\n",
              " 'decedent',\n",
              " 'john',\n",
              " 'andersonautopsy',\n",
              " 'authorized',\n",
              " 'by',\n",
              " 'dr',\n",
              " 'smith']"
            ]
          },
          "metadata": {
            "tags": []
          },
          "execution_count": 22
        }
      ]
    },
    {
      "cell_type": "code",
      "metadata": {
        "id": "Rn7KCGsgbuoI"
      },
      "source": [
        "from collections import Counter"
      ],
      "execution_count": 20,
      "outputs": []
    },
    {
      "cell_type": "code",
      "metadata": {
        "colab": {
          "base_uri": "https://localhost:8080/"
        },
        "id": "UfNCvPbpk6K9",
        "outputId": "77f96245-5703-4df4-edaa-8cff2fcf7fce"
      },
      "source": [
        "def word_counter(tokens):\n",
        "    word_counts = Counter()\n",
        "    word_counts.update(tokens)\n",
        "    return word_counts\n",
        "word_count = word_counter(tokens)\n",
        "word_count.most_common(5)"
      ],
      "execution_count": 23,
      "outputs": [
        {
          "output_type": "execute_result",
          "data": {
            "text/plain": [
              "[('and', 73), ('of', 58), ('the', 35), ('multiple', 24), ('left', 23)]"
            ]
          },
          "metadata": {
            "tags": []
          },
          "execution_count": 23
        }
      ]
    },
    {
      "cell_type": "markdown",
      "metadata": {
        "id": "dJQUNafZlhDL"
      },
      "source": [
        "Visualize Word count"
      ]
    },
    {
      "cell_type": "code",
      "metadata": {
        "id": "kEVIzD4blfrK"
      },
      "source": [
        "import matplotlib.pyplot as plt"
      ],
      "execution_count": 24,
      "outputs": []
    },
    {
      "cell_type": "code",
      "metadata": {
        "colab": {
          "base_uri": "https://localhost:8080/",
          "height": 265
        },
        "id": "12yosvVWll5m",
        "outputId": "126df9a7-eca0-4266-8e19-6bd7ab35abcc"
      },
      "source": [
        "x = list(word_count.keys())[:10]\n",
        "y = list(word_count.values())[:10]\n",
        "plt.bar(x, y)\n",
        "plt.show();"
      ],
      "execution_count": 25,
      "outputs": [
        {
          "output_type": "display_data",
          "data": {
            "image/png": "[encoded data removed]",
            "text/plain": [
              "<Figure size 432x288 with 1 Axes>"
            ]
          },
          "metadata": {
            "tags": [],
            "needs_background": "light"
          }
        }
      ]
    },
    {
      "cell_type": "code",
      "metadata": {
        "colab": {
          "base_uri": "https://localhost:8080/",
          "height": 324
        },
        "id": "2zABbItnmnyz",
        "outputId": "13831ba2-cc19-4314-d6b8-c93e01bfabe6"
      },
      "source": [
        "x = list(word_count.keys())[:10]\n",
        "y = list(word_count.values())[:10]\n",
        "plt.bar(x, y)\n",
        "degrees = 45\n",
        "plt.xticks(rotation=degrees)\n",
        "plt.show();"
      ],
      "execution_count": 29,
      "outputs": [
        {
          "output_type": "display_data",
          "data": {
            "image/png": "[encoded data removed]",
            "text/plain": [
              "<Figure size 432x288 with 1 Axes>"
            ]
          },
          "metadata": {
            "tags": [],
            "needs_background": "light"
          }
        }
      ]
    },
    {
      "cell_type": "code",
      "metadata": {
        "id": "lJsebfv1mhNZ"
      },
      "source": [
        "import pandas as pd"
      ],
      "execution_count": 30,
      "outputs": []
    },
    {
      "cell_type": "code",
      "metadata": {
        "id": "x2XVBCOlnYt6"
      },
      "source": [
        ""
      ],
      "execution_count": null,
      "outputs": []
    }
  ]
}